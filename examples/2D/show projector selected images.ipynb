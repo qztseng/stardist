{
 "cells": [
  {
   "cell_type": "code",
   "execution_count": 13,
   "metadata": {
    "Collapsed": "false"
   },
   "outputs": [],
   "source": [
    "import pandas as pd\n",
    "import\n",
    "import os\n",
    "from glob import glob\n",
    "from tqdm import tqdm\n",
    "from tifffile import imread\n"
   ]
  },
  {
   "cell_type": "markdown",
   "metadata": {
    "Collapsed": "false"
   },
   "source": [
    "## Load Tensorflow projector labeled data points (tsv file)\n",
    "selected points were relabeled as 9"
   ]
  },
  {
   "cell_type": "code",
   "execution_count": 2,
   "metadata": {
    "Collapsed": "false"
   },
   "outputs": [],
   "source": [
    "df = pd.read_csv('metadata-edited.tsv', sep=\"\\t\")"
   ]
  },
  {
   "cell_type": "code",
   "execution_count": 3,
   "metadata": {
    "Collapsed": "false"
   },
   "outputs": [],
   "source": [
    "df_sel = df[df.label==9]"
   ]
  },
  {
   "cell_type": "code",
   "execution_count": 4,
   "metadata": {
    "Collapsed": "false"
   },
   "outputs": [
    {
     "data": {
      "text/plain": [
       "array([ 19,  28,  31,  57,  59,  60,  70,  75,  77,  85,  87,  93,  94,\n",
       "       107, 116, 123, 125, 152, 182, 193, 201, 216, 224, 225, 244, 274,\n",
       "       279, 280, 285, 288, 297, 307, 321, 328, 329, 355, 357, 361, 363,\n",
       "       375, 378, 389, 395, 401, 407, 415, 419, 438, 439, 443, 444,  27,\n",
       "        56,  73,  74,  91, 114, 128, 169, 221, 232, 278, 304, 323, 349,\n",
       "       400, 422, 435])"
      ]
     },
     "execution_count": 4,
     "metadata": {},
     "output_type": "execute_result"
    }
   ],
   "source": [
    "idx_sel = df_sel.iloc[:,0].unique()\n",
    "idx_sel"
   ]
  },
  {
   "cell_type": "markdown",
   "metadata": {
    "Collapsed": "false"
   },
   "source": [
    "## read in image file names"
   ]
  },
  {
   "cell_type": "code",
   "execution_count": 5,
   "metadata": {
    "Collapsed": "false"
   },
   "outputs": [
    {
     "data": {
      "text/plain": [
       "447"
      ]
     },
     "execution_count": 5,
     "metadata": {},
     "output_type": "execute_result"
    }
   ],
   "source": [
    "X = sorted(glob('/home/qzt/data/dsb2018/train/images/*.tif'))\n",
    "len(X)"
   ]
  },
  {
   "cell_type": "code",
   "execution_count": 6,
   "metadata": {
    "Collapsed": "false"
   },
   "outputs": [
    {
     "data": {
      "text/plain": [
       "68"
      ]
     },
     "execution_count": 6,
     "metadata": {},
     "output_type": "execute_result"
    }
   ],
   "source": [
    "X_sel = [X[i] for i in idx_sel]\n",
    "len(X_sel)"
   ]
  },
  {
   "cell_type": "code",
   "execution_count": 14,
   "metadata": {
    "Collapsed": "false"
   },
   "outputs": [
    {
     "data": {
      "text/plain": [
       "['0acd2c223d300ea55d0546797713851e818e5c697d073b7f4091b96ce0f3d2fe.tif',\n",
       " '11a0170f44e3ab4a8d669ae8ea9546d3a32ebfe6486d9066e5648d30b4e1cb69.tif',\n",
       " '139946af9e2c7ef4f0298e622b831dbef5e5c0cd088eb5bc3382f8df9355443d.tif',\n",
       " '21408476af0506331e8b5d49b385833e5ef1fbb90815fbf9af9d19b4bb145f76.tif',\n",
       " '2349e95ece2857c89db7e4a8be8c88af0b45f3c4262608120cb3bd6ef51fd241.tif',\n",
       " '237802ac5005f9cf782367156c46c383efd9e05088e5768ca883cbbe24abadb1.tif',\n",
       " '29ea4f6eb4545f43868a9b40a60000426bf8dfd9d062546656a37bd2a2aaf9ec.tif',\n",
       " '2b50b1e3fa5c5aa39bc84ebfaea9961b7199c4d2488ae0b48d0b3459807d59d2.tif',\n",
       " '2c83c86dd4e5dacc024b55629375567fb8e320a82ef86f541cfe54764040fc25.tif',\n",
       " '305a8baaf726d7c9e695bff31d3a6a61445999a4732f0a3e6174dc9dcbe43931.tif',\n",
       " '309ba76b12ecb5ce28b99f3445b2b5dc54c0564c3c0e24c17e4c89a94a5d0535.tif',\n",
       " '34c9f4eb2af8b8f46b1d88b74bde16f4614cd08948c2f1d817eb629afc512e7a.tif',\n",
       " '351771edfc5db5665ded8aa4940257276b6526663c76e3b60b92a52584d8943c.tif',\n",
       " '3b75fc03a1d12b29bd2870eb1f6fdb44174dbd1118dfc11c31f127bd87bd27ef.tif',\n",
       " '431b9b0c520a28375b5a0c18d0a5039dd62cbca7c4a0bcc25af3b763d4a81bec.tif',\n",
       " '45c3bdef1819ba7029990e159f61543ed25781d13fb4dc5d4de52e803debd7d3.tif',\n",
       " '4829177d0b36abdd92c4ef0c7834cbc49f95232076bdd7e828f1f7cbb5ed80ec.tif',\n",
       " '573e1480b500c395f8d3f1800e1998bf553af0d3d43039333d33cf37d08f64e5.tif',\n",
       " '66612c188d73e931e1863af2c99d2af782c32f65fd97d224abb40bbadb87263f.tif',\n",
       " '6c85029f850d392791e13f74963391054ff54e508967bbd091ee510e9e58e011.tif',\n",
       " '72e8c49dea44787114fd191f9e97e260f961c6e7ae4715bc95cc91db8d91a4e3.tif',\n",
       " '7ba20aa731cc21af74a8d940254176cbad1bdc44f240b550341c6d9c27509daa.tif',\n",
       " '8175a55b711c948fe383bd3b91b6ca1b9e048a5241e0be13aff31ce2674fbe6d.tif',\n",
       " '81e2dd950e6df28a4fe202a40afa98b202981f65a5ca05b389749290eb87c883.tif',\n",
       " '92e7e86e765e05ce331c07a6d14f0a696eac7ee40058699243900f40b696d7aa.tif',\n",
       " 'a3a1b8f9794ef589b71faa9f35fd97ad6761c4488718fbcf766e95e31afa8606.tif',\n",
       " 'a6515d73077866808ad4cb837ecdac33612527b8a1041e82135e40fce2bb9380.tif',\n",
       " 'a6593632dcbbe4c9e9429a9cec573d26fd8c91a47d554d315f25e7c2e0280ee3.tif',\n",
       " 'a90cad45551d62c5cfa89517df8eb5e8f2f87f1a6e6678e606907afcbad91731.tif',\n",
       " 'aa4d989d262c618ac2793579e200cc71b3767f84698ae5f669867f23cdfe2568.tif',\n",
       " 'af8621ef0db8c26b0bce6385bd5609b584bfd678fcf7a234b8a15e6bb05c15ac.tif',\n",
       " 'b3bfd873fca7ff9b2e90f507dfdbe165bb8c153399b6ba5829aa59bae677a91d.tif',\n",
       " 'bbfc4aab5645637680fa0ef00925eea733b93099f1944c0aea09b78af1d4eef2.tif',\n",
       " 'c00ae67f72816daee468474026e30705003b2d3501f123579a4f0a6366b66aa1.tif',\n",
       " 'c043d5ac9dd466052e53491d0d513b0684f493d320b820f6dc2e05330ce58ec3.tif',\n",
       " 'd1b173875e2261f55014bd27bd7174b9ae1c769338c1b31b5d737e9e60175993.tif',\n",
       " 'd1dbc6ee7c44a7027e935d040e496793186b884a1028d0e26284a206c6f5aff0.tif',\n",
       " 'd32ea6d318626ca14a967d0c1ad3218aebfe636624a8d1173f5150dde8ff38cf.tif',\n",
       " 'd3ce382f190ee24729bd2e80684c11bef72bc9c733cdbbc19a17d2c1b2e775f7.tif',\n",
       " 'da5f98f2b8a64eee735a398de48ed42cd31bf17a6063db46a9e0783ac13cd844.tif',\n",
       " 'dabfee30b46d23569c63fa7253ef10b2407fbe8023035a5030252313cb718097.tif',\n",
       " 'df5cdd0ebe1bdf8dc870bc294b8f08961e083bc7f9be69e268454aa9091808b9.tif',\n",
       " 'e4ae1ceddb279bac30273ca7ac480025ce2e7287328f5272234b5bbca6d13135.tif',\n",
       " 'e66a97b2c77f3d66a7d3cebbc6a36c8c6259368a397f7b67647ed80ad53aa776.tif',\n",
       " 'eb96fc6cbf6880bf05c4309857ae33844a4bc2152e228eff31024e5265cf9fc3.tif',\n",
       " 'f0a75e0322f11cead4219aa530673fe5eef67580fb6fccc254963c9fc6b58aa1.tif',\n",
       " 'f35ab34528e3e2d2589d24cbffc0e10024dfc474a68585d0b5feb7b05aa0067f.tif',\n",
       " 'fc22db33a2495f58f118bc182c0087e140df14ccb8dad51373e1a54381f683de.tif',\n",
       " 'fc345dac2205deb169bd70197f07f053bada80b61ffa69fdfb490758323ead69.tif',\n",
       " 'fe80a2cf3c93dafad8c364fdd1646b0ba4db056cdb7bdb81474f957064812bba.tif',\n",
       " 'fec226e45f49ab81ab71e0eaa1248ba09b56a328338dce93a43f4044eababed5.tif',\n",
       " '10ba6cbee4873b32d5626a118a339832ba2b15d8643f66dddcd7cb2ec80fbc28.tif',\n",
       " '212b858a66f0d23768b8e3e1357704fc2f4cf4bbe7eed8cd59b5d01031d553e6.tif',\n",
       " '2abc40c118bc7303592c8bb95a80361e27560854b8971ab34dcf91966575b1f2.tif',\n",
       " '2ad489c11ed8b77a9d8a2339ac64ffc38e79281c03a2507db4688fd3186c0fe5.tif',\n",
       " '33d0a9b24c25852ce35274b4b1777484ccd21f44dbe35491cc926e5948c1ce3e.tif',\n",
       " '40bcdad218ac5f0885fc247d88fcad9f729f55c81c79d241a8f1559b6d8c0574.tif',\n",
       " '49edc2f7715100fb0390916e52b3fd11a921f02e59509dc987f67840a36250fc.tif',\n",
       " '6034456567632f4b48dc3dfbb98534b5953c151990f4235df6c912c0a9c08397.tif',\n",
       " '8055957570d7b38f0acecdb56f3078a963a1a7307ca03fcca62212e0e95e5845.tif',\n",
       " '8a65e41c630d85c0004ce1772ff66fbc87aca34cb165f695255b39343fcfc832.tif',\n",
       " 'a6001531274f9ad16e0ced40380f9667b9149558dea7053f7a7db18f5cd028c0.tif',\n",
       " 'b2c23ddb04531158da6a0abcaca78fec0ae5c6f64f60166e4f36f4a161efd76f.tif',\n",
       " 'be1916d0e5592c17f971315b5de720ef6894173087399daed94a52ef109c1572.tif',\n",
       " 'ce37f6dd0615d45e66e41a8f2ed6fbc0bbe3103a290394ad474207507710eacc.tif',\n",
       " 'e5a6c5e01e6a4ef676a2d975374e995dd55792ea317a8e110bebc37da83a4ce8.tif',\n",
       " 'f4faa3a409014db1865074c5f66a0255f71ae3faba03265da0b3b91f68e8a8f0.tif',\n",
       " 'f9ea1a1159c33f39bbe5f18bb278d961188b40508277eab7c0b4b91219b37b5d.tif']"
      ]
     },
     "execution_count": 14,
     "metadata": {},
     "output_type": "execute_result"
    }
   ],
   "source": [
    "X_sel_file = [os.path.split(f)[-1] for f in X_sel]\n",
    "X_sel_file"
   ]
  },
  {
   "cell_type": "code",
   "execution_count": 16,
   "metadata": {
    "Collapsed": "false"
   },
   "outputs": [],
   "source": [
    "with open('f_list.txt', 'w') as f:\n",
    "    for item in X_sel_file:\n",
    "        f.write(\"%s\\n\" % item)"
   ]
  },
  {
   "cell_type": "code",
   "execution_count": null,
   "metadata": {
    "Collapsed": "false"
   },
   "outputs": [],
   "source": [
    "# axis_norm = (0,1)   # normalize channels independently\n",
    "# X = [normalize(x,1,99.8,axis=axis_norm) for x in tqdm(X)]"
   ]
  }
 ],
 "metadata": {
  "kernelspec": {
   "display_name": "Python 3",
   "language": "python",
   "name": "python3"
  },
  "language_info": {
   "codemirror_mode": {
    "name": "ipython",
    "version": 3
   },
   "file_extension": ".py",
   "mimetype": "text/x-python",
   "name": "python",
   "nbconvert_exporter": "python",
   "pygments_lexer": "ipython3",
   "version": "3.8.1"
  }
 },
 "nbformat": 4,
 "nbformat_minor": 4
}
