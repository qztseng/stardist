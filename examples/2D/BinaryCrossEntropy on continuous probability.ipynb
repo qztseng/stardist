{
 "cells": [
  {
   "cell_type": "code",
   "execution_count": 1,
   "metadata": {
    "Collapsed": "false"
   },
   "outputs": [],
   "source": [
    "import numpy as np\n",
    "import math"
   ]
  },
  {
   "cell_type": "code",
   "execution_count": 12,
   "metadata": {
    "Collapsed": "false"
   },
   "outputs": [],
   "source": [
    "output = np.arange(0, 128, 1)\n",
    "target = np.arange(0, 128, 1)"
   ]
  },
  {
   "cell_type": "code",
   "execution_count": 35,
   "metadata": {
    "Collapsed": "false"
   },
   "outputs": [
    {
     "data": {
      "text/plain": [
       "127"
      ]
     },
     "execution_count": 35,
     "metadata": {},
     "output_type": "execute_result"
    }
   ],
   "source": [
    "output.max()"
   ]
  },
  {
   "cell_type": "code",
   "execution_count": 37,
   "metadata": {
    "Collapsed": "false"
   },
   "outputs": [
    {
     "data": {
      "text/plain": [
       "(128, 128)"
      ]
     },
     "execution_count": 37,
     "metadata": {},
     "output_type": "execute_result"
    }
   ],
   "source": [
    "bce = np.empty((128,128), dtype=np.float)\n",
    "eps = 1e-6\n",
    "\n",
    "for x in output:\n",
    "    for y in target:\n",
    "        out = float(x)/127\n",
    "        tar = float(y)/127\n",
    "\n",
    "        temp = tar * math.log(out+eps)\n",
    "        temp += (1 - tar) * math.log(1 - out+eps)\n",
    "\n",
    "        bce[y,x] = -temp\n",
    "bce.shape"
   ]
  },
  {
   "cell_type": "code",
   "execution_count": 39,
   "metadata": {
    "Collapsed": "false"
   },
   "outputs": [
    {
     "data": {
      "text/plain": [
       "array([[-9.99999500e-07,  7.90417157e-03,  1.58723332e-02, ...,\n",
       "         4.15097641e+00,  4.84406009e+00,  1.38155106e+01],\n",
       "       [ 1.08782556e-01,  4.59841395e-02,  4.84322078e-02, ...,\n",
       "         4.11841653e+00,  4.80598013e+00,  1.37067270e+01],\n",
       "       [ 2.17566111e-01,  8.40641074e-02,  8.09920824e-02, ...,\n",
       "         4.08585666e+00,  4.76790016e+00,  1.35979434e+01],\n",
       "       ...,\n",
       "       [ 1.35979434e+01,  4.76790016e+00,  4.08585666e+00, ...,\n",
       "         8.09920824e-02,  8.40641074e-02,  2.17566111e-01],\n",
       "       [ 1.37067270e+01,  4.80598013e+00,  4.11841653e+00, ...,\n",
       "         4.84322078e-02,  4.59841395e-02,  1.08782556e-01],\n",
       "       [ 1.38155106e+01,  4.84406009e+00,  4.15097641e+00, ...,\n",
       "         1.58723332e-02,  7.90417157e-03, -9.99999500e-07]])"
      ]
     },
     "execution_count": 39,
     "metadata": {},
     "output_type": "execute_result"
    }
   ],
   "source": [
    "bce"
   ]
  },
  {
   "cell_type": "code",
   "execution_count": 40,
   "metadata": {
    "Collapsed": "false"
   },
   "outputs": [],
   "source": [
    "np.savetxt('bce', bce, delimiter=',')"
   ]
  },
  {
   "cell_type": "code",
   "execution_count": 7,
   "metadata": {
    "Collapsed": "false"
   },
   "outputs": [
    {
     "data": {
      "text/plain": [
       "1.2039728043256028"
      ]
     },
     "execution_count": 7,
     "metadata": {},
     "output_type": "execute_result"
    }
   ],
   "source": [
    "# Compute cross entropy from probabilities.\n",
    "epsilon = 1e-13 # to avoid log0\n",
    "\n",
    "target = 1\n",
    "output = 0.3\n",
    "\n",
    "bce = target * math.log(output+epsilon)\n",
    "bce += (1 - target) * math.log(1 - output+epsilon)\n",
    "-bce"
   ]
  },
  {
   "cell_type": "code",
   "execution_count": null,
   "metadata": {
    "Collapsed": "false"
   },
   "outputs": [],
   "source": []
  }
 ],
 "metadata": {
  "kernelspec": {
   "display_name": "Python 3",
   "language": "python",
   "name": "python3"
  },
  "language_info": {
   "codemirror_mode": {
    "name": "ipython",
    "version": 3
   },
   "file_extension": ".py",
   "mimetype": "text/x-python",
   "name": "python",
   "nbconvert_exporter": "python",
   "pygments_lexer": "ipython3",
   "version": "3.7.6"
  }
 },
 "nbformat": 4,
 "nbformat_minor": 4
}
